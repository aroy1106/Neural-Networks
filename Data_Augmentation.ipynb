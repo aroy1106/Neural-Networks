{
  "nbformat": 4,
  "nbformat_minor": 0,
  "metadata": {
    "colab": {
      "provenance": [],
      "gpuType": "T4"
    },
    "kernelspec": {
      "name": "python3",
      "display_name": "Python 3"
    },
    "language_info": {
      "name": "python"
    },
    "accelerator": "GPU"
  },
  "cells": [
    {
      "cell_type": "code",
      "execution_count": 1,
      "metadata": {
        "colab": {
          "base_uri": "https://localhost:8080/"
        },
        "id": "PBGGvNUTLM1w",
        "outputId": "94dedfb1-308e-4270-d138-d1c808fa297d"
      },
      "outputs": [
        {
          "output_type": "execute_result",
          "data": {
            "text/plain": [
              "'C:\\\\Users\\\\aroy2'"
            ]
          },
          "metadata": {},
          "execution_count": 1
        }
      ],
      "source": [
        "import os\n",
        "os.getcwd()"
      ]
    },
    {
      "cell_type": "code",
      "source": [
        "from keras.preprocessing.image import ImageDataGenerator, img_to_array, load_img, array_to_img\n",
        "\n",
        "datagen = ImageDataGenerator(\n",
        "    rotation_range = 40,\n",
        "    width_shift_range = 0.2,\n",
        "    height_shift_range = 0.2,\n",
        "    shear_range = 0.2,\n",
        "    zoom_range = 0.2,\n",
        "    horizontal_flip = True,\n",
        "    fill_mode = 'nearest'\n",
        ")\n",
        "# cur_dir = os.getcwd() + '\\\\Roys_Arena'\n",
        "img = load_img(os.getcwd() + '\\\\Roys_ Arena\\\\falcon.jpeg')\n",
        "# print(os.getcwd() + '\\\\Roys_ Arena\\\\falcon.jpeg')\n",
        "# print(cur_dir + '\\\\falcon.jpeg')\n",
        "x = img_to_array(img)\n",
        "x = x.reshape((1,) + x.shape)\n",
        "\n",
        "i = 0\n",
        "for batch in datagen.flow(x, batch_size = 1, save_to_dir = os.getcwd() + '\\\\Roys_ Arena\\\\preview' , save_prefix='fal' , save_format='jpeg') :\n",
        "    i += 1\n",
        "    if i > 49 :\n",
        "        break"
      ],
      "metadata": {
        "id": "9RDkc_V4LmkE"
      },
      "execution_count": 25,
      "outputs": []
    },
    {
      "cell_type": "code",
      "source": [],
      "metadata": {
        "id": "y16MkyeIM3zQ"
      },
      "execution_count": 24,
      "outputs": []
    }
  ]
}